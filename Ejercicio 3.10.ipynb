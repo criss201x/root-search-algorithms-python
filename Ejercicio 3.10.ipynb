{
 "cells": [
  {
   "cell_type": "markdown",
   "id": "18f12da5-9d78-435f-97bd-1839e611739d",
   "metadata": {},
   "source": [
    "# **Ejercicio 3.10**\n",
    "\n",
    "### **Realizado por:** \n",
    "\n",
    "\n",
    "- Valeria Serna \n",
    "- Fernando Hernández\n",
    "- Lina Farfán"
   ]
  },
  {
   "cell_type": "markdown",
   "id": "a385b525-384b-4ffc-8620-4808635f9721",
   "metadata": {},
   "source": [
    "Dada una función f(x) en un número flotante x y una estimación inicial de la raíz, encuentre la raíz de la función en el intervalo. Aquí f(x) representa una ecuación algebraica o trascendental. Para simplificar, se asume que la derivada de la función también se proporciona como entrada.\n",
    "\n",
    "1. En el método anterior, se nos dio un intervalo. Aquí se requiere un valor de estimación inicial de raíz.\n",
    "2. Se garantiza que el método anteriore converge; es posible que Newton Rahhson no converja en algunos casos.\n",
    "3. El método de Newton Raphson requiere derivada. Algunas funciones pueden ser difíciles o imposibles de diferenciar.\n",
    "4. Para muchos problemas, el método de Newton Raphson converge más rápido que el método anterior.\n",
    "5. Además, puede identificar raíces repetidas, ya que no busca cambios en el signo de f (x) explícitamente\n"
   ]
  },
  {
   "cell_type": "markdown",
   "id": "69d22636-fa22-4842-bae5-d7cab37b8bef",
   "metadata": {},
   "source": [
    "### **fórmula:** \n",
    "\n",
    "a partir de la estimación inicial $x_{1}$ , el método de Newton Raphson utiliza la siguiente fórmula para encontrar el siguiente valor de x, es decir, $x_{n+1}$ del valor anterior $x_{n}$. \n",
    "\n",
    "### $x_{n+1} = x_{n}-\\frac{f(x_{n})}{f'(x_{n})}$"
   ]
  },
  {
   "cell_type": "markdown",
   "id": "b062c964-28e4-47d7-a7cf-8f73d02fbd5f",
   "metadata": {},
   "source": [
    "### **Algoritmo**\n",
    "\n",
    "- **Entrada:** x inicial, funcion(x), derivada_Funcion(x) \n",
    "- **Salida:** Raíz de Funcion() \n",
    "\n",
    "1. Calcule los valores de funcion(x) y derivada_Funcion(x)  para una x inicial dada\n",
    "2. Calcule h: h = $\\frac{funcion(x)}{derivadaFuncion(x)}$\n",
    "3. Si bien h es mayor que el error permitido ε\n",
    "\n",
    "     3.1 h = $\\frac{funcion(x)}{derivadaFuncion(x)}$\n",
    "     \n",
    "     3.2 x = x - h"
   ]
  },
  {
   "cell_type": "markdown",
   "id": "6fff09be-e7c7-400c-b30c-f9f19f453c50",
   "metadata": {},
   "source": [
    "### **Codigo**"
   ]
  },
  {
   "cell_type": "code",
   "execution_count": 36,
   "id": "c7008aba-9573-415d-b113-0788cd7876b6",
   "metadata": {},
   "outputs": [
    {
     "name": "stdin",
     "output_type": "stream",
     "text": [
      "punto inicial:  0\n",
      "Error Tolerable:  0.0001\n",
      "Maximo de iteraciones:  10\n"
     ]
    },
    {
     "name": "stdout",
     "output_type": "stream",
     "text": [
      "\n",
      "\n",
      "*** Metodo de newton Raphson ***\n",
      "Iteracion-1, x1 = 2.000000 y f(x1) = 0.509297\n",
      "Iteracion-2, x1 = 7.297079 y f(x1) = 0.812028\n",
      "Iteracion-3, x1 = 5.789072 y f(x1) = -0.532200\n",
      "Iteracion-4, x1 = 6.380517 y f(x1) = 0.049229\n",
      "Iteracion-5, x1 = 6.331772 y f(x1) = -0.000104\n",
      "Iteracion-6, x1 = 6.331875 y f(x1) = -0.000000\n",
      "\n",
      "La raiz es: 6.332\n"
     ]
    }
   ],
   "source": [
    "import math\n",
    "\n",
    "# la funcion\n",
    "def f(x):\n",
    "    return math.sin(x)-2/(1+x**2)\n",
    "\n",
    "# derivada de la funcion f(x)\n",
    "def g(x):\n",
    "    return math.cos(x)+4*x/(1+x**2)**2\n",
    "\n",
    "# Metodo de newton Raphson\n",
    "def newtonRaphson(x0,e,N):\n",
    "    print('\\n\\n*** Metodo de newton Raphson ***')\n",
    "    salto = 1\n",
    "    banderita = 1\n",
    "    condicion = True\n",
    "    while condicion:\n",
    "        if g(x0) == 0.0:\n",
    "            print('Error de division por 0!')\n",
    "            break        \n",
    "        x1 = x0 - f(x0)/g(x0)\n",
    "        print('Iteracion-%d, x1 = %0.6f y f(x1) = %0.6f' % (salto, x1, f(x1)))\n",
    "        x0 = x1\n",
    "        salto = salto + 1        \n",
    "        if salto > N:\n",
    "            banderita = 0\n",
    "            break        \n",
    "        condicion = abs(f(x1)) > e    \n",
    "    if banderita==1:\n",
    "        print('\\nLa raiz es: %0.3f' % x1)\n",
    "    else:\n",
    "        print('\\nNo es convergente.')\n",
    "# datos de entrada\n",
    "x0 = input('punto inicial: ')\n",
    "e = input('Error Tolerable: ')\n",
    "N = input('Maximo de iteraciones: ')\n",
    "\n",
    "# convierte x0 y e a flotante\n",
    "x0 = float(x0)\n",
    "e = float(e)\n",
    "# convierte N a entero\n",
    "N = int(N)\n",
    "\n",
    "# Invoca la funcion\n",
    "newtonRaphson(x0,e,N)"
   ]
  },
  {
   "cell_type": "markdown",
   "id": "09cfe93f-1ed7-4547-943c-9a57e28cf514",
   "metadata": {},
   "source": [
    "### ***Metodo por relacion de recurrencia***"
   ]
  },
  {
   "cell_type": "markdown",
   "id": "026c7d35-e6b6-45e1-ad73-5b4e4da4b13e",
   "metadata": {},
   "source": [
    "El método de Halley para la búsqueda de raíces de ecuaciones escalares no lineales tiene una rápida convergencia local, incluso más rápido que el método de Newton en términos de orden de convergencia y, a menudo, más rápido en términos de número de iteraciones. \n",
    "\n",
    "teniendo en cuenta la relacion de recurrencia planteada en el ejercicio, el metodo de halley se puede ver como la derivacion de la funcion planteada, la relacion de halley puede verse de la siguiente manera, note que es lo consiguiente a lo planteado \n",
    "\n",
    "$x_{n+1}=x_{n}-\\frac{2f(x_{n})f'(x_{n})}{2[f'(x_{n})]-f(x_{n})f''(x_{n})}$"
   ]
  },
  {
   "cell_type": "markdown",
   "id": "e44b6949-7db3-40e9-ac8b-f3251dd8107c",
   "metadata": {},
   "source": [
    "### **Algoritmo**\n",
    "\n",
    "Si f es una función continuamente diferenciable tres veces y a es cero de f pero no de su derivada, entonces, en una vecindad de a , las iteraciones $x_1$ satisfacen \n",
    "\n",
    "$|x_{n+1}-a|\\leqslant K\\cdot |x_{n}-a|^{3}$ para  $K > 0$"
   ]
  },
  {
   "cell_type": "markdown",
   "id": "0176732a-200f-4fa8-8177-50c58f9dceac",
   "metadata": {},
   "source": [
    "### **Codigo** "
   ]
  },
  {
   "cell_type": "code",
   "execution_count": 34,
   "id": "4688121a-2865-444b-b7f1-1c9b4e50da9a",
   "metadata": {},
   "outputs": [
    {
     "name": "stdout",
     "output_type": "stream",
     "text": [
      "0.165\n",
      "1.270\n",
      "1.088\n",
      "1.110\n",
      "1.110\n",
      "1.110\n"
     ]
    }
   ],
   "source": [
    "global h\n",
    "h = 0.00000001\n",
    "eps = 0.000001\n",
    "# f(x) funncion objetivo\n",
    "def f(x):\n",
    "    return math.sin(x)-2/(1+x**2)\n",
    "def fp(x):\n",
    "    global h\n",
    "    return (f(x + h) - f(x)) / h\n",
    "def fpp(x):\n",
    "    global h\n",
    "    return (fp(x + h) - fp(x)) / h\n",
    "x = 0 # valor inicial \n",
    "while True:\n",
    "    fx = f(x)\n",
    "    fpx = fp(x)\n",
    "    nuevo = x - (2.0 * fx * fpx) / (2.0 * fpx * fpx - fx * fpp(x))\n",
    "    print (f\"{nuevo:.3f}\")\n",
    "    if abs(nuevo - x) <= eps: break\n",
    "    x = nuevo"
   ]
  },
  {
   "cell_type": "code",
   "execution_count": null,
   "id": "ef813240-f5cd-44fb-96b5-42a9ae397bc4",
   "metadata": {},
   "outputs": [],
   "source": []
  }
 ],
 "metadata": {
  "kernelspec": {
   "display_name": "Python 3",
   "language": "python",
   "name": "python3"
  },
  "language_info": {
   "codemirror_mode": {
    "name": "ipython",
    "version": 3
   },
   "file_extension": ".py",
   "mimetype": "text/x-python",
   "name": "python",
   "nbconvert_exporter": "python",
   "pygments_lexer": "ipython3",
   "version": "3.8.10"
  }
 },
 "nbformat": 4,
 "nbformat_minor": 5
}
