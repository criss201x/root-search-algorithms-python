{
 "cells": [
  {
   "cell_type": "markdown",
   "id": "46c1de92-d1ab-4523-b692-e08fc7a857b8",
   "metadata": {},
   "source": [
    "# **Ejercicio 3.8**\n",
    "\n",
<<<<<<< HEAD
    "### **Realizado por**: \n"
=======
    "### **Realizado por**: \n",
    "\n",
    "\n",
    "- Valeria Serna \n",
    "- Fernando Hernández\n",
    "- Lina Farfán"
>>>>>>> ad05ef5545d9828124b2cedc32a03e369e25f4db
   ]
  },
  {
   "cell_type": "markdown",
   "id": "70885702-cb50-4eff-ab28-467a2f63762c",
   "metadata": {},
   "source": [
    "Dada una función **f(x)** en un número flotante x y dos números  $x_{0}$ , $x_{1}$ tales que f ($x_{0}$) * f ($x_{1}$) <0 y f(x) es continua en [$x_{0}$, $x_{1}$]. Aquí f(x) representa una ecuación algebraica o trascendental. Encuentre la raíz de la función en el intervalo inicial [$x_{0}$, $x_{1}$] (O encuentre un valor de x tal que f(x) sea 0). "
   ]
  },
  {
   "cell_type": "markdown",
   "id": "500d7874-f861-4d68-8abd-9f94f5f13165",
   "metadata": {},
   "source": [
    "Observe que la ecuacion **$tan(x)-\\frac{1}{x^{2}+1}=0$** es trascendental, no obedece a un polinimio"
   ]
  },
  {
   "cell_type": "markdown",
   "id": "67e1dc86-98a6-4609-8155-4915c5793d24",
   "metadata": {},
   "source": [
    "El método también se denomina método de reducción a la mitad del intervalo, es un metodo de búsqueda binaria o método de dicotomía. Este método se usa para encontrar la raíz de una ecuación en un intervalo dado que es el valor de 'x' para el cual f(x)=0. \n",
    "El método se basa en el Teorema del valor intermedio que establece que si f(x) es una función continua y hay dos números reales a y b tales que f(a) * f(b) 0 y f(b) <0) , entonces se garantiza que tiene al menos una raíz entre ellos."
   ]
  },
  {
   "cell_type": "markdown",
   "id": "fa8aa966-a8c2-467d-bcbf-156c43b100d1",
   "metadata": {},
   "source": [
    "### **Algoritmo** "
   ]
  },
  {
   "cell_type": "markdown",
   "id": "46fc36bc-923c-4785-80dd-dece2bc54301",
   "metadata": {},
   "source": [
    "- Encuentre el punto medio c = $\\frac{x_{0}+x_{1}}{2}$\n",
    "- **Si** f(c)=0, **entonces** c es la raíz de la solución.\n",
    "- **Si no se cumple lo anterior** es decir f(c)!=0\n",
    "  - **Si** el valor f($x_{0}$) * f(c)<0, la raíz se encuentra entre $x_{0}$ y c. Entonces recurrimos para $x_{0}$ y c\n",
    "  - **De lo contrario, si** f($x_{1}$) * f(c) < 0, la raíz se encuentra entre $x_{1}$ y c. Entonces recurrimos $x_{1}$ y c.\n",
    "  - **De lo contrario** función dada no sigue una de las suposiciones.\n",
    "  \n",
    "Dado que la raíz puede ser un número de punto flotante, repetimos los pasos anteriores mientras que la diferencia entre $x_{0}$ y $x_{1}$ es menor que un valor. (Un valor muy pequeño). \n",
    "\n",
    "![Comportamiento grafico del metodo](./bisection.jpg)"
   ]
  },
  {
   "cell_type": "markdown",
   "id": "8bc185f1-ed62-4776-baf5-ca4b71fb3df3",
   "metadata": {},
   "source": [
    "### **Codigo**"
   ]
  },
  {
   "cell_type": "code",
   "execution_count": 11,
   "id": "ae4b9387-9488-4019-83f4-c490abb70f4c",
   "metadata": {},
   "outputs": [
    {
     "name": "stdout",
     "output_type": "stream",
     "text": [
      "Resultado = 0.625\n",
      "f(r1) = 0.002383317395398876\n"
     ]
    }
   ],
   "source": [
    "import numpy as np\n",
    "import math \n",
    "    # por ayb dentro del intervalo\n",
    "    # | f (m) | <tol con m el punto medio\n",
    "    # implementacion recursiva entre a y b\n",
    "def biseccion(f, a, b, tol): \n",
    "    # compruebe si a y b unieron una raíz\n",
    "    if np.sign(f(a)) == np.sign(f(b)):\n",
    "        raise Exception(\"Las escalares a y b no unen una raíz\")#esta excepcion detiene el programa\n",
    "    # obteniendo el punto medio\n",
    "    m = (a + b)/2    \n",
    "    if np.abs(f(m)) < tol:\n",
    "        # condición de parada, retorne m como raiz\n",
    "        return m\n",
    "    elif np.sign(f(a)) == np.sign(f(m)):\n",
    "        # caso donde m es una mejora en a.\n",
    "        # Hacer una llamada recursiva con a = m\n",
    "        return biseccion(f, m, b, tol)\n",
    "    elif np.sign(f(b)) == np.sign(f(m)):\n",
    "        # caso donde m es una mejora en b.\n",
    "        # Hacer una llamada recursiva con b = m\n",
    "        return biseccion(f, a, m, tol)    \n",
    "f = lambda x: math.tan(x)-1/(x**2+1)#funcion objetivo\n",
    "r1 = biseccion(f, 0, 1, 0.1)\n",
    "print(\"Resultado =\", r1)\n",
    "print(\"f(r1) =\", f(r1))"
   ]
  },
  {
   "cell_type": "code",
   "execution_count": null,
   "id": "ff74934f-af67-487c-92de-0a4e11bf9eb2",
   "metadata": {},
   "outputs": [],
   "source": []
  }
 ],
 "metadata": {
  "kernelspec": {
   "display_name": "Python 3",
   "language": "python",
   "name": "python3"
  },
  "language_info": {
   "codemirror_mode": {
    "name": "ipython",
    "version": 3
   },
   "file_extension": ".py",
   "mimetype": "text/x-python",
   "name": "python",
   "nbconvert_exporter": "python",
   "pygments_lexer": "ipython3",
   "version": "3.8.10"
  }
 },
 "nbformat": 4,
 "nbformat_minor": 5
}
