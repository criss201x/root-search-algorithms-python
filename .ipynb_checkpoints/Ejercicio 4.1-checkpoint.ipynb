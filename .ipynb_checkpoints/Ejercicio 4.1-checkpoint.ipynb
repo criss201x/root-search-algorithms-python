{
 "cells": [
  {
   "cell_type": "markdown",
   "id": "9f7789f5-f0dc-4b8f-8d05-d41f21493468",
   "metadata": {},
   "source": [
    "# **Ejercicio 3.8**\n",
    "\n",
    "### **Realizado por**: \n",
    "\n",
    "\n",
    "- Valeria Serna \n",
    "- Fernando Hernández\n",
    "- Lina Farfán"
   ]
  },
  {
   "cell_type": "markdown",
   "id": "2bb68dc5-a5f0-4cbb-ae36-350824690138",
   "metadata": {},
   "source": [
    "El aislamiento de raíces reales de un polinomio consiste en determinar un conjunto de intervalos disjuntos de la recta real, que \n",
    "contienen cada una (y solo una) raíz real del polinomio, y que conjuntamente contienen todas las raíces reales del polinomio.\n",
    "\n",
    "Para encontrar raíces reales de un polinomio, la estrategia común es dividir la recta real (o un intervalo de la misma donde se busca la raíz) en intervalos disjuntos hasta tener como máximo una raíz en cada intervalo. Este procedimiento se denomina aislamiento de raíz, y un intervalo resultante que contiene exactamente una raíz es un intervalo de aislamiento para esta raíz.\n",
    "\n",
    "Actualmente existen muchos metodos para aislar la raiz real de un polinomio, funcionan teóricamente con números reales, generalmente se utilizan en la práctica con polinomios con coeficientes enteros e intervalos que se determinan con números racionales.\n",
    "\n",
    "Algunos de los metodos mas populares son: \n",
    "\n",
    "- Secuencias de Sturm\n",
    "- Fraccion continua \n",
    "- Método Vincent-Collins-Akritas\n",
    "- Método de intervalo de Newton\n",
    "- Regla de signos de desacartes\n",
    "- Biseccion \n",
    "- Regla falsa, entre otros...\n",
    "\n",
    "A continuacion se va a implentar solo algunos de ellos en la ecuacion: \n",
    "\n",
    "\\$x^{3}-18x^{6}+132x^{5}-520x^{4}+1.280x^{3}-2.304x^{2}+3.072-2.408\\$\n",
    "\n",
    "\n"
   ]
  },
  {
   "cell_type": "markdown",
   "id": "0b5320fa-4e2f-4dba-b3d2-038e697676ee",
   "metadata": {},
   "source": [
    "### **Biseccion**"
   ]
  },
  {
   "cell_type": "markdown",
   "id": "632fa5b9-cd20-4524-836f-c2d97e995c29",
   "metadata": {},
   "source": [
    "Resultados de traducción Recordemos el Teorema del valor intermedio (TIV), Teorema 6: Si una función continua f definida en $[a, b]$ satisface $f(a)f(b) <0$, entonces existe p ∈ $[a, b]$ tal que $f(p) = 0$ . Aquí está la idea detrás del método. En cada iteración, divida el intervalo $[a, b]$ en dos subintervalos y evalúe f en el punto medio. Descartar el subintervalo que no contiene la raíz y continuar con el otro intervalo."
   ]
  },
  {
   "cell_type": "markdown",
   "id": "df5ddda8-9485-4d5d-af61-6d4818ec0dce",
   "metadata": {},
   "source": [
    "### **Algoritmo** "
   ]
  },
  {
   "cell_type": "markdown",
   "id": "c20891e7-84c2-463f-bdb7-949492b0e9f2",
   "metadata": {},
   "source": [
    "- Encuentre el punto medio c = $\\frac{x_{0}+x_{1}}{2}$\n",
    "- **Si** f(c)=0, **entonces** c es la raíz de la solución.\n",
    "- **Si no se cumple lo anterior** es decir f(c)!=0\n",
    "  - **Si** el valor f($x_{0}$) * f(c)<0, la raíz se encuentra entre $x_{0}$ y c. Entonces recurrimos para $x_{0}$ y c\n",
    "  - **De lo contrario, si** f($x_{1}$) * f(c) < 0, la raíz se encuentra entre $x_{1}$ y c. Entonces recurrimos $x_{1}$ y c.\n",
    "  - **De lo contrario** función dada no sigue una de las suposiciones.\n",
    "  \n",
    "Dado que la raíz puede ser un número de punto flotante, repetimos los pasos anteriores mientras que la diferencia entre $x_{0}$ y $x_{1}$ es menor que un valor. (Un valor muy pequeño). "
   ]
  },
  {
   "cell_type": "code",
   "execution_count": 21,
   "id": "48819d6c-435d-420a-b091-ef5e0f1582a0",
   "metadata": {},
   "outputs": [
    {
     "name": "stdout",
     "output_type": "stream",
     "text": [
      "p es  1.999969482421875  y el numero de iteracion es  16\n"
     ]
    }
   ],
   "source": [
    "import numpy as np\n",
    "def bisection(f, a, b, eps, N):\n",
    "    n = 1\n",
    "    p = 0. # para asegurar que el valor de p se lleve a cabo del ciclo while\n",
    "    while n <= N:\n",
    "        p = a + (b-a)/2\n",
    "        if np.isclose(f(p), 0) or np.abs(a-b)<eps:\n",
    "            print('p es ', p, ' y el numero de iteracion es ', n)\n",
    "            return\n",
    "        if f(a)*f(p) < 0:\n",
    "            b = p\n",
    "        else:\n",
    "            a = p           \n",
    "        n += 1\n",
    "    y = f(p)\n",
    "    print('El método no convergió. La última iteración dio ',p, ' con valor de funcion: ', y)\n",
    "    \n",
    "bisection(lambda x: x**7-18*x**6+132*x**5-520*x**4+1.280*x**3-2.304*x**2+3.072*x-2.408, 0, 2, 1e-4, 20)#se llama funcion con intervalo [0,2]!!!"
   ]
  },
  {
   "cell_type": "markdown",
   "id": "89996735-5822-46f9-8ae2-b6a4a3a0309f",
   "metadata": {},
   "source": [
    "### **Metodo de Newton mejorado** "
   ]
  },
  {
   "cell_type": "markdown",
   "id": "5704ad3d-eeb6-4d14-a93f-268641e105e2",
   "metadata": {},
   "source": [
    "El siguiente código de Python se basa en la primera parte del ejercicio 3.11 donde se le añaden unas caracteristicas adicionales al algoritmo de Newton, para ver la justificacion teorica, remitase al ejercicio 3.11"
   ]
  },
  {
   "cell_type": "markdown",
   "id": "26bbc145-6b54-4c81-8039-ff022d6dc4b9",
   "metadata": {},
   "source": [
    "### **Codigo**"
   ]
  },
  {
   "cell_type": "code",
   "execution_count": 24,
   "id": "0c9be65e-2be7-40d4-b2ff-b303bdc99892",
   "metadata": {},
   "outputs": [
    {
     "name": "stdout",
     "output_type": "stream",
     "text": [
      "Numero de llamadas a la funcion: 75\n",
      "La solucion es: 9.999\n"
     ]
    }
   ],
   "source": [
    "from math import e\n",
    "def Newton(f, dfdx, x, eps):\n",
    "    valor_f = f(x)\n",
    "    contador_programa = 0\n",
    "    while abs(valor_f) > eps and contador_programa < 100:\n",
    "        try:\n",
    "            x = x - float(valor_f)/dfdx(x)\n",
    "        except ZeroDivisionError:\n",
    "            print (\"Error! - derivando 0 en x = \", x)\n",
    "            sys.exit(1)     # Sale del programa si hay error\n",
    "\n",
    "        valor_f = f(x)\n",
    "        contador_programa += 1\n",
    "\n",
    "    # Aquí, se encuentra una solución o demasiadas iteraciones\n",
    "    if abs(valor_f) > eps:\n",
    "        contador_programa = -1\n",
    "    return x, contador_programa\n",
    "#funcion objetivo\n",
    "def f(x):    \n",
    "    return x**7-18*x**6+132*x**5-520*x**4+1.280*x**3-2.304*x**2+3.072*x-2.408\n",
    "#derivada de F(x)\n",
    "def dfdx(x):\n",
    "    return 7*x**6-108*x**5+660*x**4-2080*x**3+3840*x**2-4.608*x+3.072\n",
    "\n",
    "solucion, num_iteracion = Newton(f, dfdx, x=0, eps=1.0e-6)\n",
    "\n",
    "if num_iteracion > 0: #si hay solucion\n",
    "    print (\"Numero de llamadas a la funcion: %d\" % (1 + 2*num_iteracion))\n",
    "    print (\"La solucion es: %0.3f\" % (abs(solucion)))\n",
    "else:\n",
    "    print (\"Solucion no encontrada!\")"
   ]
  },
  {
   "cell_type": "markdown",
   "id": "d259b28b-2af3-4f09-a3bd-66097e5d11ca",
   "metadata": {},
   "source": [
    "### **Metodo de falsa regla o falsa posicion**"
   ]
  },
  {
   "cell_type": "markdown",
   "id": "adc36edc-1fee-49d9-bf09-755b0000c446",
   "metadata": {},
   "source": [
    "El método de posición falsa determina iterativamente una secuencia de intervalos que encierran la raíz, $(a_{n},b_{n})$, y una secuencia de aproximaciones, que se denotarán por pn. Similar al método de bisección, la raíz debe estar en el intervalo que se está considerando. Durante cada iteración, se selecciona un solo punto de $(a_{n},b_{n})$ para aproximar la ubicación de la raíz y servir como pn.\n",
    "\n",
    "Si pn es una aproximación suficientemente precisa, el proceso iterativo finaliza. De lo contrario, el teorema del valor intermedio se utiliza para determinar si la raíz se encuentra en el subintervalo (a_{n}, p_{n}) o en el subintervalo (p_{n}, b_{n}).\n",
    "\n",
    "Sea f una función continua en el intervalo $[a, b]$  $f(a)⋅f(b) <0$, ubique el punto $(p_{1},0)$ donde la línea que une los puntos $(a, f(a))$ y $(b,f(b))$ cruza el eje x. Por eso,\n",
    "\n",
    "### $p_{1} = b-\\frac{f(b)(b-a)}{f(b)-f(a)} = \\frac{af(b)-bf(a)}{f(b)-f(a)} $\n"
   ]
  },
  {
   "cell_type": "markdown",
   "id": "02d7e3ee-653e-41a5-8ea5-7252c9f04981",
   "metadata": {},
   "source": [
    "### **Algoritmo** "
   ]
  },
  {
   "cell_type": "markdown",
   "id": "44b6dc92-a7bc-4dd7-95c0-7adc1dc73f74",
   "metadata": {},
   "source": [
    "Escribe la ecuación de la línea que conecta los dos puntos. Ahora encontrar el punto que toca el eje x. Para eso ponemos y = 0.\n",
    "\n",
    "1. **Si** f (c) == 0, entonces c es la raíz de la solución.\n",
    "2. **De lo contrario**, f (c)! = 0\n",
    "\n",
    "    2.1 **Si** el valor f (a) * f (c) <0, la raíz se encuentra entre ay c. Entonces recurrimos para ayc    \n",
    "    2.2 **De lo contrario**, si f (b) * f (c) <0, la raíz se encuentra entre by c. Entonces recurrimos by c.    \n",
    "    2.3 La otra función dada no sigue una de las suposiciones.\n",
    "\n",
    "Dado que la raíz puede ser un número de punto flotante y puede converger muy lentamente en el peor de los casos, iteramos una gran cantidad de veces para que la respuesta se acerque más a la raíz."
   ]
  },
  {
   "cell_type": "markdown",
   "id": "843568e9-ec0d-4c67-8b89-6ce3a9d96f41",
   "metadata": {},
   "source": [
    "### **Codigo** "
   ]
  },
  {
   "cell_type": "code",
   "execution_count": 33,
   "id": "649e388c-a2d4-4d72-b99e-9d5495becfa6",
   "metadata": {},
   "outputs": [
    {
     "name": "stdout",
     "output_type": "stream",
     "text": [
      "el valor de la raiz es :  -11.949\n"
     ]
    }
   ],
   "source": [
    "MAX_ITER = 1000000\n",
    "#funcion objetivo \n",
    "def func( x ):\n",
    "    return x**7-18*x**6+132*x**5-520*x**4+1.280*x**3-2.304*x**2+3.072*x-2.408\n",
    " \n",
    "# Imprime la raíz de func (x) en el intervalo [a, b]\n",
    "def regla_falsa( a , b):\n",
    "    if func(a) * func(b) >= 0:\n",
    "        print(\"error: a y b deben estar definidos\")\n",
    "        return -1\n",
    "     \n",
    "    c = a # inicializa el resultado\n",
    "     \n",
    "    for i in range(MAX_ITER):\n",
    "         \n",
    "        # Encuentra el punto que toca el eje x\n",
    "        c = (a * func(b) - b * func(a))/ (func(b) - func(a))\n",
    "         \n",
    "        # Verifique si el punto encontrado arriba es raíz\n",
    "        if func(c) == 0:\n",
    "            break\n",
    "         \n",
    "        # Decide el lado para repetir los pasos\n",
    "        elif func(c) * func(a) < 0:\n",
    "            b = c\n",
    "        else:\n",
    "            a = c\n",
    "    print(\"el valor de la raiz es : \" , '%.3f' %c)    \n",
    "# ASUMIMOS ESTOS VALORES COMO UNICIALES\n",
    "a =-100\n",
    "b = 200\n",
    "regla_falsa(a, b)\n",
    " "
   ]
  },
  {
   "cell_type": "markdown",
   "id": "7dcbcdce-8ee1-400b-bc3d-b8958eb667f7",
   "metadata": {},
   "source": [
    "#### **NOTA:** Este método siempre converge, por lo general considerablemente más rápido que Bisección. Pero en el peor de los casos puede ser muy lento. "
   ]
  },
  {
   "cell_type": "code",
   "execution_count": null,
   "id": "f05aaa22-4972-425b-b2ac-afa9d4b65c4c",
   "metadata": {},
   "outputs": [],
   "source": []
  }
 ],
 "metadata": {
  "kernelspec": {
   "display_name": "Python 3",
   "language": "python",
   "name": "python3"
  },
  "language_info": {
   "codemirror_mode": {
    "name": "ipython",
    "version": 3
   },
   "file_extension": ".py",
   "mimetype": "text/x-python",
   "name": "python",
   "nbconvert_exporter": "python",
   "pygments_lexer": "ipython3",
   "version": "3.8.10"
  }
 },
 "nbformat": 4,
 "nbformat_minor": 5
}
