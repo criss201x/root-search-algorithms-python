{
 "cells": [
  {
   "cell_type": "markdown",
   "id": "9ece253d-bc15-4226-b942-d29b6d98c690",
   "metadata": {},
   "source": [
    "# **Ejercicio 3.11**\n",
    "### Realizado por: \n",
    "\n"
   ]
  },
  {
   "cell_type": "markdown",
   "id": "c5c66ffa-4ed1-4c16-bce7-2b9460ab0d78",
   "metadata": {},
   "source": [
    "El método de Newton , también conocido como método de Newton-Raphson , es un método muy famoso y ampliamente utilizado para resolver ecuaciones algebraicas no lineales. En comparación con los otros métodos que consideraremos, generalmente es el más rápido (generalmente con diferencia). Sin embargo, no garantiza que se encontrará una solución existente.\n",
    "\n",
    "La funcion de Newton funciona bien para el ejercicio 3.10. Sin embargo, para un uso más general, existen algunos errores que deberían corregirse en una versión mejorada del código. Un ejemplo puede ilustrar cuál es el problema: resolvamos cuando se da una division por sero el metodo de newton original devuelve valores negativos en determinadas iteraciones esto genera un patron de la siguiente manera en los resultados: \n",
    "\n",
    "- -1.09331618202 \n",
    "- 1.10490354324 \n",
    "- -1.14615550788 \n",
    "- 1.30303261823 \n",
    "- -2.06492300238 \n",
    "- 13.4731428006 \n",
    "\n",
    "El problema subyacente, que lleva a la división por cero en el ejemplo anterior, es que el método de Newton diverge : las aproximaciones se alejan cada vez más de $\\ (x = 0 \\$). Si no hubiera sido por la división por cero, la condición en el ciclo while siempre sería verdadera y el ciclo se ejecutaría para siempre. Ocasionalmente ocurre divergencia del método de Newton, y el remedio es abortar el método cuando se alcanza un número máximo de iteraciones.\n",
    "\n"
   ]
  },
  {
   "cell_type": "markdown",
   "id": "ee18bda0-0e8f-413f-ac44-59e392fcc791",
   "metadata": {},
   "source": [
    "### **Caracteristicas del algoritmo mejorado** \n",
    "\n",
    "- evitar la división por cero\n",
    "- permitir un número máximo de iteraciones\n",
    "- evitar la evaluación adicional a $\\ (f (x) \\$)\n"
   ]
  },
  {
   "cell_type": "markdown",
   "id": "97c8964e-97a4-46d3-9d3f-c57be520d120",
   "metadata": {},
   "source": [
    "### **Codigo**"
   ]
  },
  {
   "cell_type": "code",
   "execution_count": 1,
   "id": "155f5ba2-0605-438c-871a-9f8ea2deb436",
   "metadata": {},
   "outputs": [
    {
     "name": "stdout",
     "output_type": "stream",
     "text": [
      "Numero de llamadas a la funcion: 25\n",
      "La solucion es: 0.260\n"
     ]
    }
   ],
   "source": [
    "from math import e\n",
    "def Newton(f, dfdx, x, eps):\n",
    "    valor_f = f(x)\n",
    "    contador_programa = 0\n",
    "    while abs(valor_f) > eps and contador_programa < 100:\n",
    "        try:\n",
    "            x = x - float(valor_f)/dfdx(x)\n",
    "        except ZeroDivisionError:\n",
    "            print (\"Error! - derivando 0 en x = \", x)\n",
    "            sys.exit(1)     # Sale del programa si hay error\n",
    "\n",
    "        valor_f = f(x)\n",
    "        contador_programa += 1\n",
    "\n",
    "    # Aquí, se encuentra una solución o demasiadas iteraciones\n",
    "    if abs(valor_f) > eps:\n",
    "        contador_programa = -1\n",
    "    return x, contador_programa\n",
    "#funcion objetivo\n",
    "def f(x):    \n",
    "    return (e**(2*x))*(x**3)-(3*e**(2*x))*(x**2)+(3*e**(2*x))*x+(e**(2*x))\n",
    "#derivada de F(x)\n",
    "def dfdx(x):\n",
    "    return (2*e**(2*x))*(x**3)+(3*e**(2*x))*(x**2)+(6*e**(2*x))*x+(5*e**(2*x))\n",
    "\n",
    "solucion, num_iteracion = Newton(f, dfdx, x=0, eps=1.0e-6)\n",
    "\n",
    "if num_iteracion > 0: #si hay solucion\n",
    "    print (\"Numero de llamadas a la funcion: %d\" % (1 + 2*num_iteracion))\n",
    "    print (\"La solucion es: %0.3f\" % (abs(solucion)))\n",
    "else:\n",
    "    print (\"Solucion no encontrada!\")"
   ]
  },
  {
   "cell_type": "markdown",
   "id": "e551f485-5e94-46dc-9780-5198011dc58a",
   "metadata": {},
   "source": [
    "### **Metodo de Halley**"
   ]
  },
  {
   "cell_type": "markdown",
   "id": "5c7f5599-9201-4857-b41b-5c4337ad8af8",
   "metadata": {},
   "source": [
    "El método de Halley es una extensión del método de Newton que incorpora la segunda derivada de la función objetivo. Mientras que el método de Newton itera la fórmula \n",
    "\n",
    "\\$x_{n+1} = x_{n} - \\frac{f(x_{n})}{f'(x_{n})} \\$ \n",
    "\n",
    "el metodo de halley contiene un termino adicional en el denominador. \n",
    "\n",
    "\\$x_{n+1} = x_{n} - \\frac{f(x_{n})}{[f'(x_{n})-0.5 f(x_{n}) \\frac{f''(x_{n})}{f'(x_{n})}  ]} \\$ \n",
    "\n",
    "Tenga en cuenta si $f''(x_{n}) = 0$ entonces el metodo de Halley se reduce al metodo de newton, para muchas funciones, el costo computacional de evaluar el término adicional en la fórmula de Halley no compensa la ganancia en la velocidad de convergencia. En otras palabras, a menudo es más rápido y fácil usar la fórmula más simple de Newton que la fórmula más complicada de Halley. \n"
   ]
  },
  {
   "cell_type": "markdown",
   "id": "686c224b-3158-4b4d-a22d-59957cfb8080",
   "metadata": {},
   "source": [
    "### **Codigo**"
   ]
  },
  {
   "cell_type": "code",
   "execution_count": 11,
   "id": "89fa6763-feae-4a2d-87e9-6ef9e272ab24",
   "metadata": {},
   "outputs": [
    {
     "name": "stdout",
     "output_type": "stream",
     "text": [
      "raiz real: 0.260\n",
      "f(0.25992104989487214) = 2.886579864025407e-15\n"
     ]
    }
   ],
   "source": [
    "import random \n",
    "\n",
    "#funcion objetivo\n",
    "def f(x):\n",
    "    return (e**(2*x))*(x**3)-(3*e**(2*x))*(x**2)+(3*e**(2*x))*x+(e**(2*x))\n",
    "\n",
    "#define z(x) = f'(x) en forma numerica\n",
    "def z(x):\n",
    "    h = 1E-10\n",
    "    return (f(x+h)-f(x))*(h**(-1))\n",
    "\n",
    "#define w(x) = z'(x) en forma numerica\n",
    "def w(x):\n",
    "    h = 1E-10\n",
    "    return (z(x+h)-z(x))*(h**(-1))\n",
    "\n",
    "def halley():\n",
    "    x = 0\n",
    "    max_iter = 1000\n",
    "    while(abs(f(x)) >= 1E-10 and max_iter>0):\n",
    "        a = 2.0*(z(x)**2.0)\n",
    "        b = f(x)*w(x)\n",
    "        x = x - ((2.0*f(x)*z(x))/(a-b))\n",
    "        max_iter = max_iter - 1\n",
    "    if(abs(f(x))<=1E-10):\n",
    "        return x\n",
    "    return None \n",
    "\n",
    "r = halley()\n",
    "if(r != None):\n",
    "    print('raiz real: %0.3f' %abs(r))\n",
    "    print(\"f(\"+str(abs(r))+\") = \"+str(abs(f(r))))\n",
    "else:\n",
    "    print(\"intente con otro valor inicial\")"
   ]
  },
  {
   "cell_type": "code",
   "execution_count": null,
   "id": "a4bd6808-793d-406b-a4ba-995868c29e38",
   "metadata": {},
   "outputs": [],
   "source": []
  }
 ],
 "metadata": {
  "kernelspec": {
   "display_name": "Python 3",
   "language": "python",
   "name": "python3"
  },
  "language_info": {
   "codemirror_mode": {
    "name": "ipython",
    "version": 3
   },
   "file_extension": ".py",
   "mimetype": "text/x-python",
   "name": "python",
   "nbconvert_exporter": "python",
   "pygments_lexer": "ipython3",
   "version": "3.8.10"
  }
 },
 "nbformat": 4,
 "nbformat_minor": 5
}
